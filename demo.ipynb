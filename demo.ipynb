{
 "cells": [
  {
   "cell_type": "markdown",
   "metadata": {},
   "source": [
    "# Geodata Attack - Using GPS"
   ]
  },
  {
   "cell_type": "code",
   "execution_count": 1,
   "metadata": {},
   "outputs": [],
   "source": [
    "import skmob\n",
    "from sklearn.cluster import DBSCAN\n",
    "from skmob.utils import constants\n",
    "from skmob.utils import utils\n",
    "\n",
    "from geopy.distance import distance\n",
    "import pandas as pd\n",
    "import numpy as np\n",
    "import csv\n",
    "import folium"
   ]
  },
  {
   "cell_type": "markdown",
   "metadata": {},
   "source": [
    "## Preprocessing GPS Data"
   ]
  },
  {
   "cell_type": "markdown",
   "metadata": {},
   "source": [
    "### Load data from file"
   ]
  },
  {
   "cell_type": "code",
   "execution_count": 2,
   "metadata": {},
   "outputs": [],
   "source": [
    "preprocessed_file = 'privamov/pre_processed.csv'"
   ]
  },
  {
   "cell_type": "markdown",
   "metadata": {},
   "source": [
    "Loading only a subset of data from `privamov-gps.csv` , by using `MAX_LINES` and `SKIP_LINES`"
   ]
  },
  {
   "cell_type": "code",
   "execution_count": 3,
   "metadata": {},
   "outputs": [],
   "source": [
    "def formatGPS(file, MAX_LINES = 10**7, SKIP_LINES = 50):\n",
    "    ids = []\n",
    "    horodate = []\n",
    "    lat = []\n",
    "    long = []\n",
    "    i = 0\n",
    "    t = 0\n",
    "    with open(file) as csv_file:\n",
    "        csv_reader = csv.reader(csv_file, delimiter='\\t', quotechar=\"'\")\n",
    "        for row in csv_reader:\n",
    "            if t == SKIP_LINES:\n",
    "                ids.append(row[0])\n",
    "                horodate.append(row[1])\n",
    "                lat.append(row[3])\n",
    "                long.append(row[2])\n",
    "                if i > MAX_LINES : \n",
    "                    break\n",
    "                t=0\n",
    "            else :\n",
    "                t+=1\n",
    "            i+=1\n",
    "        d = { 'ID': ids, 'Horodate':horodate, 'Latitude':lat, 'Longitude':long}  \n",
    "        df = pd.DataFrame(data=d)\n",
    "    return df"
   ]
  },
  {
   "cell_type": "markdown",
   "metadata": {},
   "source": [
    "### Build DataFrame & Quick Visualization"
   ]
  },
  {
   "cell_type": "code",
   "execution_count": 4,
   "metadata": {},
   "outputs": [
    {
     "data": {
      "text/html": [
       "<div>\n",
       "<style scoped>\n",
       "    .dataframe tbody tr th:only-of-type {\n",
       "        vertical-align: middle;\n",
       "    }\n",
       "\n",
       "    .dataframe tbody tr th {\n",
       "        vertical-align: top;\n",
       "    }\n",
       "\n",
       "    .dataframe thead th {\n",
       "        text-align: right;\n",
       "    }\n",
       "</style>\n",
       "<table border=\"1\" class=\"dataframe\">\n",
       "  <thead>\n",
       "    <tr style=\"text-align: right;\">\n",
       "      <th></th>\n",
       "      <th>ID</th>\n",
       "      <th>Horodate</th>\n",
       "      <th>Latitude</th>\n",
       "      <th>Longitude</th>\n",
       "    </tr>\n",
       "  </thead>\n",
       "  <tbody>\n",
       "    <tr>\n",
       "      <th>0</th>\n",
       "      <td>1</td>\n",
       "      <td>2014-10-04 08:40:42.085</td>\n",
       "      <td>43.4094833333333</td>\n",
       "      <td>3.68737333333333</td>\n",
       "    </tr>\n",
       "    <tr>\n",
       "      <th>1</th>\n",
       "      <td>1</td>\n",
       "      <td>2014-10-04 08:41:32.161</td>\n",
       "      <td>43.4094416666667</td>\n",
       "      <td>3.68725</td>\n",
       "    </tr>\n",
       "    <tr>\n",
       "      <th>2</th>\n",
       "      <td>1</td>\n",
       "      <td>2014-10-04 08:42:22.161</td>\n",
       "      <td>43.4092883333333</td>\n",
       "      <td>3.68749333333333</td>\n",
       "    </tr>\n",
       "    <tr>\n",
       "      <th>3</th>\n",
       "      <td>1</td>\n",
       "      <td>2014-10-04 08:43:13.161</td>\n",
       "      <td>43.4094033333333</td>\n",
       "      <td>3.68728166666667</td>\n",
       "    </tr>\n",
       "    <tr>\n",
       "      <th>4</th>\n",
       "      <td>1</td>\n",
       "      <td>2014-10-04 08:44:05.161</td>\n",
       "      <td>43.4093516666667</td>\n",
       "      <td>3.68739166666667</td>\n",
       "    </tr>\n",
       "  </tbody>\n",
       "</table>\n",
       "</div>"
      ],
      "text/plain": [
       "  ID                 Horodate          Latitude         Longitude\n",
       "0  1  2014-10-04 08:40:42.085  43.4094833333333  3.68737333333333\n",
       "1  1  2014-10-04 08:41:32.161  43.4094416666667           3.68725\n",
       "2  1  2014-10-04 08:42:22.161  43.4092883333333  3.68749333333333\n",
       "3  1  2014-10-04 08:43:13.161  43.4094033333333  3.68728166666667\n",
       "4  1  2014-10-04 08:44:05.161  43.4093516666667  3.68739166666667"
      ]
     },
     "execution_count": 4,
     "metadata": {},
     "output_type": "execute_result"
    }
   ],
   "source": [
    "df_gps = formatGPS(preprocessed_file, SKIP_LINES=0)\n",
    "df_gps.head()"
   ]
  },
  {
   "cell_type": "markdown",
   "metadata": {},
   "source": [
    "Aggregating number of points by IDs"
   ]
  },
  {
   "cell_type": "code",
   "execution_count": 5,
   "metadata": {},
   "outputs": [],
   "source": [
    "def get_unique_id(df):\n",
    "    ids = df['ID']\n",
    "    unique_id = set()\n",
    "    for ident in ids:\n",
    "        unique_id.add(ident)\n",
    "    return unique_id  "
   ]
  },
  {
   "cell_type": "code",
   "execution_count": 6,
   "metadata": {},
   "outputs": [
    {
     "name": "stdout",
     "output_type": "stream",
     "text": [
      "['1', '103', '105', '107', '109', '11', '110', '112', '13', '14', '15', '16', '17', '18', '19', '2', '20', '21', '22', '23', '24', '25', '26', '27', '28', '29', '30', '31', '32', '33', '34', '35', '36', '39', '4', '40', '41', '42', '43', '44', '46', '48', '49', '50', '51', '52', '53', '55', '56', '57', '58', '59', '6', '60', '61', '62', '63', '65', '66', '67', '68', '69', '7', '70', '71', '72', '73', '75', '77', '78', '79', '8', '80', '81', '82', '83', '85', '86', '87', '89', '9', '93', '94', '95', '99']\n"
     ]
    }
   ],
   "source": [
    "unique_id = sorted(list(get_unique_id(df_gps)))\n",
    "print(unique_id)"
   ]
  },
  {
   "cell_type": "code",
   "execution_count": 7,
   "metadata": {},
   "outputs": [
    {
     "data": {
      "text/html": [
       "<div>\n",
       "<style scoped>\n",
       "    .dataframe tbody tr th:only-of-type {\n",
       "        vertical-align: middle;\n",
       "    }\n",
       "\n",
       "    .dataframe tbody tr th {\n",
       "        vertical-align: top;\n",
       "    }\n",
       "\n",
       "    .dataframe thead th {\n",
       "        text-align: right;\n",
       "    }\n",
       "</style>\n",
       "<table border=\"1\" class=\"dataframe\">\n",
       "  <thead>\n",
       "    <tr style=\"text-align: right;\">\n",
       "      <th></th>\n",
       "      <th>ID</th>\n",
       "      <th>counts</th>\n",
       "    </tr>\n",
       "  </thead>\n",
       "  <tbody>\n",
       "    <tr>\n",
       "      <th>61</th>\n",
       "      <td>69</td>\n",
       "      <td>77729</td>\n",
       "    </tr>\n",
       "    <tr>\n",
       "      <th>43</th>\n",
       "      <td>50</td>\n",
       "      <td>64019</td>\n",
       "    </tr>\n",
       "    <tr>\n",
       "      <th>34</th>\n",
       "      <td>4</td>\n",
       "      <td>60402</td>\n",
       "    </tr>\n",
       "    <tr>\n",
       "      <th>37</th>\n",
       "      <td>42</td>\n",
       "      <td>42211</td>\n",
       "    </tr>\n",
       "    <tr>\n",
       "      <th>51</th>\n",
       "      <td>59</td>\n",
       "      <td>41863</td>\n",
       "    </tr>\n",
       "  </tbody>\n",
       "</table>\n",
       "</div>"
      ],
      "text/plain": [
       "    ID  counts\n",
       "61  69   77729\n",
       "43  50   64019\n",
       "34   4   60402\n",
       "37  42   42211\n",
       "51  59   41863"
      ]
     },
     "execution_count": 7,
     "metadata": {},
     "output_type": "execute_result"
    }
   ],
   "source": [
    "agg = df_gps.groupby('ID').size().reset_index(name='counts')\n",
    "agg.sort_values(by='counts',ascending=False).head()"
   ]
  },
  {
   "cell_type": "markdown",
   "metadata": {},
   "source": [
    "### Build SKMOB Object & Visualize trajectories"
   ]
  },
  {
   "cell_type": "code",
   "execution_count": 8,
   "metadata": {},
   "outputs": [
    {
     "data": {
      "text/html": [
       "<div>\n",
       "<style scoped>\n",
       "    .dataframe tbody tr th:only-of-type {\n",
       "        vertical-align: middle;\n",
       "    }\n",
       "\n",
       "    .dataframe tbody tr th {\n",
       "        vertical-align: top;\n",
       "    }\n",
       "\n",
       "    .dataframe thead th {\n",
       "        text-align: right;\n",
       "    }\n",
       "</style>\n",
       "<table border=\"1\" class=\"dataframe\">\n",
       "  <thead>\n",
       "    <tr style=\"text-align: right;\">\n",
       "      <th></th>\n",
       "      <th>uid</th>\n",
       "      <th>datetime</th>\n",
       "      <th>lat</th>\n",
       "      <th>lng</th>\n",
       "    </tr>\n",
       "  </thead>\n",
       "  <tbody>\n",
       "    <tr>\n",
       "      <th>0</th>\n",
       "      <td>1</td>\n",
       "      <td>2014-10-04 08:40:42.085</td>\n",
       "      <td>43.409483</td>\n",
       "      <td>3.687373</td>\n",
       "    </tr>\n",
       "    <tr>\n",
       "      <th>1</th>\n",
       "      <td>1</td>\n",
       "      <td>2014-10-04 08:41:32.161</td>\n",
       "      <td>43.409442</td>\n",
       "      <td>3.687250</td>\n",
       "    </tr>\n",
       "    <tr>\n",
       "      <th>2</th>\n",
       "      <td>1</td>\n",
       "      <td>2014-10-04 08:42:22.161</td>\n",
       "      <td>43.409288</td>\n",
       "      <td>3.687493</td>\n",
       "    </tr>\n",
       "    <tr>\n",
       "      <th>3</th>\n",
       "      <td>1</td>\n",
       "      <td>2014-10-04 08:43:13.161</td>\n",
       "      <td>43.409403</td>\n",
       "      <td>3.687282</td>\n",
       "    </tr>\n",
       "    <tr>\n",
       "      <th>4</th>\n",
       "      <td>1</td>\n",
       "      <td>2014-10-04 08:44:05.161</td>\n",
       "      <td>43.409352</td>\n",
       "      <td>3.687392</td>\n",
       "    </tr>\n",
       "  </tbody>\n",
       "</table>\n",
       "</div>"
      ],
      "text/plain": [
       "  uid                datetime        lat       lng\n",
       "0   1 2014-10-04 08:40:42.085  43.409483  3.687373\n",
       "1   1 2014-10-04 08:41:32.161  43.409442  3.687250\n",
       "2   1 2014-10-04 08:42:22.161  43.409288  3.687493\n",
       "3   1 2014-10-04 08:43:13.161  43.409403  3.687282\n",
       "4   1 2014-10-04 08:44:05.161  43.409352  3.687392"
      ]
     },
     "execution_count": 8,
     "metadata": {},
     "output_type": "execute_result"
    }
   ],
   "source": [
    "tdf = skmob.TrajDataFrame(df_gps, latitude='Latitude', longitude='Longitude', datetime='Horodate', user_id='ID')\n",
    "tdf.head()"
   ]
  },
  {
   "cell_type": "code",
   "execution_count": 9,
   "metadata": {},
   "outputs": [
    {
     "name": "stdout",
     "output_type": "stream",
     "text": [
      "number of users:\t 85\n",
      "number of records:\t 1380589\n"
     ]
    }
   ],
   "source": [
    "print(\"number of users:\\t\", len(tdf.uid.unique()))\n",
    "print(\"number of records:\\t\", len(tdf))"
   ]
  },
  {
   "cell_type": "markdown",
   "metadata": {},
   "source": [
    "## Filtering"
   ]
  },
  {
   "cell_type": "markdown",
   "metadata": {},
   "source": [
    "Filter out all points with speed higher than `max_speed` km/h from the previous point."
   ]
  },
  {
   "cell_type": "code",
   "execution_count": 10,
   "metadata": {},
   "outputs": [],
   "source": [
    "from skmob.preprocessing import filtering"
   ]
  },
  {
   "cell_type": "code",
   "execution_count": null,
   "metadata": {},
   "outputs": [],
   "source": [
    "ftdf = filtering.filter(tdf, max_speed_kmh=400.)"
   ]
  },
  {
   "cell_type": "markdown",
   "metadata": {},
   "source": [
    "Very few points have been filtered."
   ]
  },
  {
   "cell_type": "code",
   "execution_count": null,
   "metadata": {},
   "outputs": [],
   "source": [
    "print('Points of the raw trajectory: %s'%len(tdf))\n",
    "print('Points of the filtered trajectory: %s'%len(ftdf))"
   ]
  },
  {
   "cell_type": "markdown",
   "metadata": {},
   "source": [
    "## Compression"
   ]
  },
  {
   "cell_type": "markdown",
   "metadata": {},
   "source": [
    "Reduce the number of points of the trajectory, preserving the structure.\n",
    "\n",
    "Merge together all points that are closer than `spatial_radius_km`=0.2 kilometers from each other."
   ]
  },
  {
   "cell_type": "code",
   "execution_count": null,
   "metadata": {},
   "outputs": [],
   "source": [
    "from skmob.preprocessing import compression"
   ]
  },
  {
   "cell_type": "code",
   "execution_count": null,
   "metadata": {},
   "outputs": [],
   "source": [
    "ctdf = compression.compress(ftdf, spatial_radius_km=0.2)\n",
    "ctdf[:4]"
   ]
  },
  {
   "cell_type": "markdown",
   "metadata": {},
   "source": [
    "The compressed trajectory has only a small fraction of the points of the filtered trajectory (less than 10%)"
   ]
  },
  {
   "cell_type": "code",
   "execution_count": null,
   "metadata": {},
   "outputs": [],
   "source": [
    "print('Points of the filtered trajectory: %s'%len(ftdf))\n",
    "print('Points of the compressed trajectory: %s'%len(ctdf))"
   ]
  },
  {
   "cell_type": "markdown",
   "metadata": {},
   "source": [
    "## Stop detection"
   ]
  },
  {
   "cell_type": "markdown",
   "metadata": {},
   "source": [
    "Identify locations where the user spent at least minutes_for_a_stop minutes within a `distance spatial_radius_km` $\\times$ `stop_radius_factor`, from a given point."
   ]
  },
  {
   "cell_type": "markdown",
   "metadata": {},
   "source": [
    "A new column `leaving_datetime` is added, indicating the time when the user departs from the stop."
   ]
  },
  {
   "cell_type": "code",
   "execution_count": null,
   "metadata": {},
   "outputs": [],
   "source": [
    "from skmob.preprocessing import detection"
   ]
  },
  {
   "cell_type": "code",
   "execution_count": null,
   "metadata": {},
   "outputs": [],
   "source": [
    "stdf = detection.stops(ctdf, stop_radius_factor=1, \\\n",
    "            minutes_for_a_stop=30, spatial_radius_km=0.5, \n",
    "                       leaving_time=True)\n",
    "stdf[:4]"
   ]
  },
  {
   "cell_type": "markdown",
   "metadata": {},
   "source": [
    "Click on the stop markers to see a pop up with:\n",
    "\n",
    "* User ID\n",
    "* Coordinates of the stop (click to see the location on Google maps)\n",
    "* Arrival time\n",
    "* Departure time"
   ]
  },
  {
   "cell_type": "code",
   "execution_count": null,
   "metadata": {},
   "outputs": [],
   "source": [
    "map_f = ctdf.plot_trajectory(max_points=1, hex_color=-1, start_end_markers=False)\n",
    "stdf.plot_stops(map_f=map_f, hex_color=-1)"
   ]
  },
  {
   "cell_type": "markdown",
   "metadata": {},
   "source": [
    "### ST_DBSCAN"
   ]
  },
  {
   "cell_type": "code",
   "execution_count": null,
   "metadata": {},
   "outputs": [],
   "source": [
    "import DBSCAN"
   ]
  },
  {
   "cell_type": "code",
   "execution_count": null,
   "metadata": {},
   "outputs": [],
   "source": [
    "df = DBSCAN.ST_DBSCAN(stdf)\n",
    "df.head()"
   ]
  },
  {
   "cell_type": "code",
   "execution_count": null,
   "metadata": {},
   "outputs": [],
   "source": [
    "df[df['cluster']==14]"
   ]
  },
  {
   "cell_type": "code",
   "execution_count": null,
   "metadata": {},
   "outputs": [],
   "source": [
    "df = df[df[\"cluster\"]!=-1]\n",
    "clusters = set(df[\"cluster\"])"
   ]
  },
  {
   "cell_type": "code",
   "execution_count": null,
   "metadata": {},
   "outputs": [],
   "source": [
    "meanData = []\n",
    "for i in range(1, len(clusters)+1):\n",
    "    latLngDate = df[df[\"cluster\"]==i][[\"lat\", \"lng\"]].to_numpy()\n",
    "    toAdd = list(np.mean(latLngDate, axis=0))\n",
    "    toAdd.append(df[df[\"cluster\"]==i][\"datetime\"].iloc[0])\n",
    "    toAdd.append(df[df[\"cluster\"]==i][\"leaving_datetime\"].iloc[0])\n",
    "    toAdd.insert(0, i)\n",
    "    meanData.append(toAdd)\n",
    "meanData = np.array(meanData)"
   ]
  },
  {
   "cell_type": "code",
   "execution_count": null,
   "metadata": {},
   "outputs": [],
   "source": [
    "dataset = pd.DataFrame({\"uid\": meanData[:, 0], 'lat': meanData[:, 1], 'lng': meanData[:, 2], 'datetime': meanData[:, 3], 'leaving_datetime': meanData[:, 4]})"
   ]
  },
  {
   "cell_type": "code",
   "execution_count": null,
   "metadata": {},
   "outputs": [],
   "source": [
    "dd = skmob.TrajDataFrame(dataset, latitude=1, longitude=2, datetime=3)\n",
    "len(clusters)"
   ]
  },
  {
   "cell_type": "code",
   "execution_count": null,
   "metadata": {
    "scrolled": true
   },
   "outputs": [],
   "source": [
    "map_f = dd.plot_trajectory(max_points=1, hex_color=-1, start_end_markers=False)\n",
    "dd.plot_stops(map_f=map_f, hex_color=-1)\n",
    "dd[10:20].plot_stops(map_f=map_f, hex_color=-1)\n",
    "dd[20:30].plot_stops(map_f=map_f, hex_color=-1)\n",
    "dd[30:40].plot_stops(map_f=map_f, hex_color=-1)\n",
    "dd[40:50].plot_stops(map_f=map_f, hex_color=-1)\n",
    "dd[50:57].plot_stops(map_f=map_f, hex_color=-1)"
   ]
  },
  {
   "cell_type": "code",
   "execution_count": null,
   "metadata": {},
   "outputs": [],
   "source": [
    "from geopy.geocoders import Nominatim\n",
    "geolocator = Nominatim(user_agent=\"OT6-Attack\")\n",
    "places = []\n",
    "name = []\n",
    "address = []\n",
    "for i in range(50, len(clusters)):#len(clusters)):\n",
    "    test = dataset[dataset[\"uid\"]==i][[\"lat\", \"lng\"]]\n",
    "    test = test.to_numpy()\n",
    "    lat, lng = test[0]\n",
    "    coord = \"{}, {}\".format(lat, lng)\n",
    "    location = geolocator.reverse(coord)\n",
    "    places.append(list(location.raw[\"address\"].keys())[0])\n",
    "    name.append(list(location.raw[\"address\"].values())[0])\n",
    "    address.append(location.raw[\"display_name\"])"
   ]
  },
  {
   "cell_type": "code",
   "execution_count": null,
   "metadata": {},
   "outputs": [],
   "source": [
    "print(\"places : {}\\nname : {}\\naddress : {}\".format(places, name, address))"
   ]
  },
  {
   "cell_type": "code",
   "execution_count": null,
   "metadata": {},
   "outputs": [],
   "source": [
    "def get_unique_id(df):\n",
    "    ids = df['uid']\n",
    "    unique_id = set()\n",
    "    for ident in ids:\n",
    "        unique_id.add(ident)\n",
    "    return unique_id\n",
    "a = get_unique_id(df)"
   ]
  },
  {
   "cell_type": "code",
   "execution_count": null,
   "metadata": {},
   "outputs": [],
   "source": [
    "liste = np.zeros((33, 33))"
   ]
  },
  {
   "cell_type": "code",
   "execution_count": null,
   "metadata": {},
   "outputs": [],
   "source": [
    "mapCluster = {}\n",
    "for i in range(1, len(clusters)+1):\n",
    "    var = df[df[\"cluster\"]==i][\"uid\"].to_numpy()\n",
    "    mapCluster[i] = var"
   ]
  },
  {
   "cell_type": "code",
   "execution_count": null,
   "metadata": {},
   "outputs": [],
   "source": [
    "from collections import Counter\n",
    "mapId = {}\n",
    "a = list(a)\n",
    "for i in range(len(a)):\n",
    "    mapId[a[i]] = []\n",
    "for value in mapCluster.values():\n",
    "    for i in range(len(value)):\n",
    "        for j in range(len(value)):\n",
    "            if i!=j:\n",
    "                mapId[value[i]].append(value[j])\n",
    "for key in mapId.keys():\n",
    "    mapId[key] = Counter(mapId[key])"
   ]
  },
  {
   "cell_type": "code",
   "execution_count": null,
   "metadata": {},
   "outputs": [],
   "source": [
    "aliste = [[0] * 33 for i in range(33)]\n",
    "for i in range(len(aliste)):\n",
    "    for j in range(len(aliste)):\n",
    "        if i==j:\n",
    "            aliste[i][j] = -1\n",
    "        else:\n",
    "            aliste[i][j] = mapId[a[i]][a[j]]\n",
    "for i in range(len(aliste)):\n",
    "    for j in range(len(liste)):\n",
    "        print(aliste[i][j], end=' ')\n",
    "    print()"
   ]
  },
  {
   "cell_type": "code",
   "execution_count": null,
   "metadata": {},
   "outputs": [],
   "source": [
    "newDf = df[df['uid'].isin(['59','72'])]"
   ]
  },
  {
   "cell_type": "code",
   "execution_count": null,
   "metadata": {},
   "outputs": [],
   "source": [
    "newDf[newDf[\"cluster\"] == 15]"
   ]
  },
  {
   "cell_type": "code",
   "execution_count": null,
   "metadata": {},
   "outputs": [],
   "source": [
    "newDf = newDf[newDf[\"cluster\"] != 15]"
   ]
  },
  {
   "cell_type": "code",
   "execution_count": null,
   "metadata": {
    "scrolled": true
   },
   "outputs": [],
   "source": [
    "map_f = newDf.plot_trajectory(max_points=1, hex_color=-1, start_end_markers=False)\n",
    "newDf.plot_stops(map_f=map_f, hex_color=-1)"
   ]
  },
  {
   "cell_type": "code",
   "execution_count": null,
   "metadata": {},
   "outputs": [],
   "source": [
    "from geopy.geocoders import Nominatim\n",
    "geolocator = Nominatim(user_agent=\"OT6-Attack\")"
   ]
  },
  {
   "cell_type": "code",
   "execution_count": null,
   "metadata": {},
   "outputs": [],
   "source": [
    "location = geolocator.reverse(\"48.8709, 2.779\")\n",
    "location.raw"
   ]
  },
  {
   "cell_type": "code",
   "execution_count": null,
   "metadata": {},
   "outputs": [],
   "source": [
    "from skmob.measures.individual import home_location\n",
    "hl_df = home_location(tdf)\n",
    "print(hl_df[hl_df[\"uid\"]==\"59\"])"
   ]
  },
  {
   "cell_type": "code",
   "execution_count": null,
   "metadata": {},
   "outputs": [],
   "source": [
    "print(hl_df[hl_df[\"uid\"]==\"72\"])"
   ]
  },
  {
   "cell_type": "code",
   "execution_count": null,
   "metadata": {},
   "outputs": [],
   "source": [
    "house_geo = hl_df[hl_df[\"uid\"].isin([\"59\",\"72\"])]\n",
    "house_geo['datetime'] = dd['datetime'].iloc[0]\n",
    "house_geo['leaving_datetime'] = dd['leaving_datetime'].iloc[0]\n",
    "house_geo = skmob.TrajDataFrame(house_geo, latitude='lat', longitude='lng', datetime='datetime', user_id='uid')\n",
    "map_f = house_geo.plot_trajectory(max_points=1, hex_color=-1, start_end_markers=False)\n",
    "house_geo.plot_stops(map_f=map_f, hex_color=-1)"
   ]
  },
  {
   "cell_type": "code",
   "execution_count": null,
   "metadata": {},
   "outputs": [],
   "source": [
    "anotherDf = df[df['uid'].isin(['50','42'])]\n",
    "anotherDf = anotherDf[anotherDf[\"cluster\"] != 41]"
   ]
  },
  {
   "cell_type": "code",
   "execution_count": null,
   "metadata": {},
   "outputs": [],
   "source": [
    "map_f = anotherDf.plot_trajectory(max_points=1, hex_color=-1, start_end_markers=False)\n",
    "anotherDf.plot_stops(map_f=map_f, hex_color=-1)"
   ]
  },
  {
   "cell_type": "code",
   "execution_count": null,
   "metadata": {},
   "outputs": [],
   "source": []
  }
 ],
 "metadata": {
  "kernelspec": {
   "display_name": "Python 3",
   "language": "python",
   "name": "python3"
  },
  "language_info": {
   "codemirror_mode": {
    "name": "ipython",
    "version": 3
   },
   "file_extension": ".py",
   "mimetype": "text/x-python",
   "name": "python",
   "nbconvert_exporter": "python",
   "pygments_lexer": "ipython3",
   "version": "3.7.5"
  }
 },
 "nbformat": 4,
 "nbformat_minor": 2
}
